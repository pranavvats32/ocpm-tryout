{
 "cells": [
  {
   "cell_type": "code",
   "execution_count": null,
   "metadata": {},
   "outputs": [],
   "source": [
    "#make a readme and a requirements file"
   ]
  },
  {
   "cell_type": "code",
   "execution_count": 7,
   "metadata": {},
   "outputs": [],
   "source": [
    "#importing event log \n",
    "from ocpa.objects.log.importer.ocel import factory as ocel_import_factory\n",
    "filename = \"intermediate.jsonocel\"\n",
    "ocel = ocel_import_factory.apply(filename)\n",
    "\n",
    "# the filetype of the datasets posted on the ocel website does not match the ocpm documentation input filetype\n",
    "# json vs jsonocel"
   ]
  },
  {
   "cell_type": "code",
   "execution_count": 8,
   "metadata": {},
   "outputs": [],
   "source": [
    "#process discovery\n",
    "from ocpa.algo.discovery.ocpn import algorithm as ocpn_discovery_factory\n",
    "from ocpa.visualization.oc_petri_net import factory as ocpn_vis_factory\n",
    "ocel = ocel_import_factory.apply(file_path=filename)\n",
    "ocpn = ocpn_discovery_factory.apply(ocel, parameters={\"debug\": False})\n",
    "ocpn_vis_factory.save(ocpn_vis_factory.apply(ocpn), \"oc_petri_net.png\")"
   ]
  },
  {
   "cell_type": "code",
   "execution_count": 9,
   "metadata": {},
   "outputs": [
    {
     "name": "stdout",
     "output_type": "stream",
     "text": [
      "<ocpa.objects.oc_petri_net.obj.ObjectCentricPetriNet object at 0x000001A118E6FD30>\n"
     ]
    }
   ],
   "source": [
    "print(ocpn)"
   ]
  },
  {
   "cell_type": "code",
   "execution_count": null,
   "metadata": {},
   "outputs": [],
   "source": []
  }
 ],
 "metadata": {
  "kernelspec": {
   "display_name": "ocpa-en",
   "language": "python",
   "name": "python3"
  },
  "language_info": {
   "codemirror_mode": {
    "name": "ipython",
    "version": 3
   },
   "file_extension": ".py",
   "mimetype": "text/x-python",
   "name": "python",
   "nbconvert_exporter": "python",
   "pygments_lexer": "ipython3",
   "version": "3.10.16"
  }
 },
 "nbformat": 4,
 "nbformat_minor": 2
}
